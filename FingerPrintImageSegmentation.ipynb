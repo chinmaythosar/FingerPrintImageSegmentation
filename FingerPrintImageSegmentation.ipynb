{
 "cells": [
  {
   "cell_type": "code",
   "execution_count": 64,
   "metadata": {
    "collapsed": true
   },
   "outputs": [],
   "source": [
    "import cv2\n",
    "import numpy as np"
   ]
  },
  {
   "cell_type": "code",
   "execution_count": 65,
   "metadata": {},
   "outputs": [
    {
     "name": "stdout",
     "output_type": "stream",
     "text": [
      "260100\n"
     ]
    }
   ],
   "source": [
    "from PIL import Image\n",
    "im = Image.open(\"input.png\") #Can be many different formats.\n",
    "pix = im.load()\n",
    "pixval= im.size[0]* im.size[1]\n",
    "print pixval"
   ]
  },
  {
   "cell_type": "code",
   "execution_count": 66,
   "metadata": {},
   "outputs": [
    {
     "name": "stdout",
     "output_type": "stream",
     "text": [
      "2\n"
     ]
    }
   ],
   "source": [
    "row = im.size[1]\n",
    "column = im.size=[0]\n",
    "\n",
    "#if row % 3 == 0 and column % 3 == 0:\n",
    "#    blksize = 3\n",
    "#else:\n",
    "blksize = 2\n",
    "\n",
    "print blksize"
   ]
  },
  {
   "cell_type": "code",
   "execution_count": 22,
   "metadata": {
    "collapsed": true
   },
   "outputs": [],
   "source": [
    "def convolve(image, kernel,kernelName):\n",
    "\n",
    "    # grab the spatial dimensions of the image, along with\n",
    "    # the spatial dimensions of the kernel\n",
    "    (iH, iW) = image.shape[:2]\n",
    "    (kH, kW) = kernel.shape[:2]\n",
    " \n",
    "    # allocate memory for the output image, taking care to\n",
    "    # \"pad\" the borders of the input image so the spatial\n",
    "    # size (i.e., width and height) are not reduced\n",
    "    pad =  (kW - 1) / 2\n",
    "    image = cv2.copyMakeBorder(image, pad, pad, pad, pad,\n",
    "        cv2.BORDER_REPLICATE)\n",
    "    output = np.zeros((iH, iW), dtype=\"float32\")\n",
    "\n",
    "\n",
    "# loop over the input image, \"sliding\" the kernel across\n",
    "# each (x, y)-coordinate from left-to-right and top to\n",
    "# bottom\n",
    "\n",
    "    for y in np.arange(pad, iH + pad):\n",
    "        for x in np.arange(pad, iW + pad):\n",
    "            \n",
    "# extract the ROI of the image by extracting the\n",
    "# *center* region of the current (x, y)-coordinates, on='title'\n",
    "# dimensions\n",
    "            roi = image[y - pad:y + pad + 1, x - pad:x + pad + 1]\n",
    "               \n",
    "# perform the actual convolution by taking the\n",
    "# element-wise multiplicate between the ROI and\n",
    "# the kernel, then summing the matrix\n",
    "            k = (roi * kernel).sum()\n",
    "            Karr.append(k)\n",
    "        \n",
    "# store the values of convoluted kernels in an Array\n",
    "\n",
    "            output[y - pad, x - pad] = k\n",
    "\n",
    "# rescale the output image to be in the range [0, 255]\n",
    "#output = rescale_intensity(output, in_range=(0, 255))\n",
    "#output = (output * 255).astype(\"uint8\")\n",
    " \n",
    "# return the output image\n",
    "        \n",
    "    return output"
   ]
  },
  {
   "cell_type": "code",
   "execution_count": 23,
   "metadata": {
    "collapsed": true
   },
   "outputs": [],
   "source": [
    "# construct a sharpening filter\n",
    "sharpen = np.array((\n",
    "    [0, -1, 0],\n",
    "    [-1, 5, -1],\n",
    "    [0, -1, 0]), dtype=\"int\")\n",
    "#emboss\n",
    "emboss = np.array((\n",
    "    [-2,-1,0],\n",
    "    [-1,1,1],\n",
    "    [0,1,2]), dtype=\"int\")\n",
    "\n",
    "#Edge detection\n",
    "Edge_detection = np.array((\n",
    "    [0, 1, 0],\n",
    "    [0, 1, -0.5],\n",
    "    [0, 0, 0]), dtype=\"int\")\n",
    " \n",
    "#Custom\n",
    "Custom_detection = np.array((\n",
    "    [0, -3, 1],\n",
    "    [-2, 0, 2],\n",
    "    [-1, 3, 1]), dtype=\"int\")\n",
    "\n",
    "#Blank\n",
    "Blank = np.array((\n",
    "    [0, 0, 0],\n",
    "    [0, 1, 0],\n",
    "    [0, 0, 0]), dtype=\"int\")\n",
    "\n",
    "#Combined V and H Edge Detection\n",
    "VH = np.array((\n",
    "    [0, 0, 0],\n",
    "    [-1, 1, 0],\n",
    "    [0, -1, 0]), dtype=\"int\")\n",
    "\n",
    "#Shadow Mask\n",
    "ShadowMask = np.array((\n",
    "    [-2, -1, 0],\n",
    "    [-1, 0, 1],\n",
    "    [0, 1, 2]), dtype=\"int\")\n",
    "\n",
    "#Enhancement Mask\n",
    "EnhancementMask = np.array((\n",
    "    [1, 2, 1],\n",
    "    [2, 4, 2],\n",
    "    [1, 2, 1]), dtype=\"int\")"
   ]
  },
  {
   "cell_type": "code",
   "execution_count": 24,
   "metadata": {
    "collapsed": true
   },
   "outputs": [],
   "source": [
    "kernelBank = (\n",
    "#    (\"sharpen\", sharpen), #modded\n",
    "#    (\"Edge_detection\", Edge_detection), #modded\n",
    "#    (\"emboss\",emboss),  #modded\n",
    "    (\"Custom_detection\",Custom_detection),\n",
    "#    (\"Blank\",Blank),\n",
    "    (\"VH\",VH),\n",
    "    (\"ShadowMask\",ShadowMask),\n",
    "    (\"EnhancementMask\",EnhancementMask),\n",
    ")"
   ]
  },
  {
   "cell_type": "code",
   "execution_count": 25,
   "metadata": {
    "collapsed": true
   },
   "outputs": [],
   "source": [
    "# load the input image and convert it to grayscale\n",
    "image = cv2.imread('input.png',cv2.IMREAD_COLOR)\n",
    "gray = cv2.cvtColor(image, cv2.COLOR_BGR2GRAY)"
   ]
  },
  {
   "cell_type": "code",
   "execution_count": 26,
   "metadata": {},
   "outputs": [
    {
     "name": "stdout",
     "output_type": "stream",
     "text": [
      "[INFO] applying Custom_detection kernel\n",
      "[0 0 0 ..., 0 0 0]\n",
      "262144\n",
      "[INFO] applying VH kernel\n",
      "[0 0 0 ..., 0 0 0]\n",
      "262144\n",
      "[INFO] applying ShadowMask kernel\n",
      "[0 0 0 ..., 0 0 0]\n",
      "262144\n",
      "[INFO] applying EnhancementMask kernel\n",
      "[0 0 0 ..., 0 0 0]\n",
      "262144\n"
     ]
    },
    {
     "data": {
      "text/plain": [
       "[array([0, 0, 0, ..., 0, 0, 0]),\n",
       " array([0, 0, 0, ..., 0, 0, 0]),\n",
       " array([0, 0, 0, ..., 0, 0, 0]),\n",
       " array([0, 0, 0, ..., 0, 0, 0])]"
      ]
     },
     "execution_count": 26,
     "metadata": {},
     "output_type": "execute_result"
    }
   ],
   "source": [
    "#KernelArr = np.array([],[])\n",
    "a=0\n",
    "KernelArr = np.array([],dtype=\"int\")\n",
    "\n",
    "#setup an empty numpy array\n",
    "\n",
    "for (kernelName, kernel) in kernelBank:\n",
    "    # apply the kernel to the grayscale image using both\n",
    "    # our custom `convole` function and OpenCV's `filter2D`\n",
    "    # function\n",
    "    Karr=[]\n",
    "    #empty temporary list array\n",
    "    \n",
    "    print(\"[INFO] applying {} kernel\".format(kernelName))\n",
    "    convoleOutput = convolve(gray, kernel,kernelName)\n",
    "    opencvOutput = cv2.filter2D(gray, -1, kernel)\n",
    "    \n",
    "    #convert list into numpy array    \n",
    "    KarrNp = np.asarray(Karr)\n",
    "    print KarrNp\n",
    "    print len(KarrNp)\n",
    "    #concaternate all arrays into one single array size will be No. of kernels x length of each array\n",
    "    KernelArr = np.concatenate((KernelArr,KarrNp),axis=0)\n",
    "\n",
    "KernelArr=np.split(KernelArr,4)\n",
    "KernelArr"
   ]
  },
  {
   "cell_type": "code",
   "execution_count": 27,
   "metadata": {},
   "outputs": [
    {
     "data": {
      "text/plain": [
       "array([[0, 0, 0, 0],\n",
       "       [0, 0, 0, 0],\n",
       "       [0, 0, 0, 0],\n",
       "       ..., \n",
       "       [0, 0, 0, 0],\n",
       "       [0, 0, 0, 0],\n",
       "       [0, 0, 0, 0]])"
      ]
     },
     "execution_count": 27,
     "metadata": {},
     "output_type": "execute_result"
    }
   ],
   "source": [
    "#reshape kernel to array like ([1,2,3,4],[1,2,3,4]) etc\n",
    "KernelArr=np.swapaxes(KernelArr,0,1)\n",
    "\n",
    "KernelArr"
   ]
  },
  {
   "cell_type": "code",
   "execution_count": 28,
   "metadata": {},
   "outputs": [
    {
     "name": "stdout",
     "output_type": "stream",
     "text": [
      "[0 0 0 ..., 0 0 0]\n",
      "262144\n"
     ]
    }
   ],
   "source": [
    "from sklearn.cluster import KMeans\n",
    "import numpy as np\n",
    "\n",
    "km = km = KMeans(n_clusters=2, \n",
    "            init='random', \n",
    "            n_init=10, \n",
    "            max_iter=1000,\n",
    "            tol=1e-04,\n",
    "            random_state=0)\n",
    "\n",
    "#run K-Clustering on the Array\n",
    "kmeans_model = km.fit_predict(KernelArr.reshape(-1,4))\n",
    "#kmeans_model = km.fit_predict(KernelArr)\n",
    "\n",
    "\n",
    "\n",
    "print kmeans_model\n",
    "print len(kmeans_model)"
   ]
  },
  {
   "cell_type": "code",
   "execution_count": 29,
   "metadata": {},
   "outputs": [
    {
     "name": "stdout",
     "output_type": "stream",
     "text": [
      "Output Successful\n"
     ]
    }
   ],
   "source": [
    "x=0\n",
    "y=0\n",
    "\n",
    "for z in kmeans_model:\n",
    "    if y==im.size[0]:\n",
    "        y=0\n",
    "        x=x+1\n",
    "                \n",
    "    if z == 1:    \n",
    "        pix[y,x] = 255 # Set the RGBA Value of the image (tuple)\n",
    "        \n",
    "   # else:\n",
    "   #     pix[y,x] = 0\n",
    "        \n",
    "    y=y+1    \n",
    "                   \n",
    "im.save(\"InputO.jpg\")\n",
    "print (\"Output Successful\")"
   ]
  },
  {
   "cell_type": "code",
   "execution_count": null,
   "metadata": {
    "collapsed": true
   },
   "outputs": [],
   "source": []
  },
  {
   "cell_type": "code",
   "execution_count": null,
   "metadata": {
    "collapsed": true
   },
   "outputs": [],
   "source": []
  }
 ],
 "metadata": {
  "kernelspec": {
   "display_name": "Python 2",
   "language": "python",
   "name": "python2"
  },
  "language_info": {
   "codemirror_mode": {
    "name": "ipython",
    "version": 2
   },
   "file_extension": ".py",
   "mimetype": "text/x-python",
   "name": "python",
   "nbconvert_exporter": "python",
   "pygments_lexer": "ipython2",
   "version": "2.7.13"
  }
 },
 "nbformat": 4,
 "nbformat_minor": 2
}
